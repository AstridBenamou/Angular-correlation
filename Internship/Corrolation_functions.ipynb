{
 "cells": [
  {
   "cell_type": "markdown",
   "metadata": {
    "id": "zqT9vCOAbMvx"
   },
   "source": [
    "## Simulation of particules in a Box drawn from a particular distribution and their correlation"
   ]
  },
  {
   "cell_type": "code",
   "execution_count": 6,
   "metadata": {},
   "outputs": [],
   "source": [
    "from lib import pair_correlation, make_bins, trace_pair_correlation"
   ]
  },
  {
   "cell_type": "code",
   "execution_count": 7,
   "metadata": {
    "id": "KRXHVQTabIyX"
   },
   "outputs": [],
   "source": [
    "import numpy as np \n",
    "import math \n",
    "import scipy as sp\n",
    "from scipy import stats\n",
    "import pandas as pd\n",
    "import matplotlib.pyplot as plt\n",
    "import scipy.stats as stats\n",
    "from mpl_toolkits import mplot3d\n",
    "%matplotlib inline\n",
    "import plotly.express as px\n",
    "import plotly.graph_objects as go\n",
    "from scipy.spatial import cKDTree"
   ]
  },
  {
   "cell_type": "code",
   "execution_count": 8,
   "metadata": {
    "id": "K0eB9RbUcIiP"
   },
   "outputs": [],
   "source": [
    "n = 100000"
   ]
  },
  {
   "cell_type": "markdown",
   "metadata": {
    "id": "o4tmv4wlb1AR"
   },
   "source": [
    "### Uniform distribution\n"
   ]
  },
  {
   "cell_type": "markdown",
   "metadata": {
    "id": "PCp3Curoc-uH"
   },
   "source": [
    "#### Sample"
   ]
  },
  {
   "cell_type": "code",
   "execution_count": 9,
   "metadata": {
    "id": "Xqd2RE1O35AD"
   },
   "outputs": [],
   "source": [
    "data_unif = np.random.uniform(0,1,(n,3))"
   ]
  },
  {
   "cell_type": "markdown",
   "metadata": {},
   "source": [
    "Create boxes around for periodic distance calculus "
   ]
  },
  {
   "cell_type": "markdown",
   "metadata": {
    "id": "CGNMkfifb65i"
   },
   "source": [
    "### Gaussian distribution truncated to [0,1]\n",
    "\n"
   ]
  },
  {
   "cell_type": "markdown",
   "metadata": {
    "id": "WAiFMs8P-os_"
   },
   "source": [
    "#### Sample "
   ]
  },
  {
   "cell_type": "code",
   "execution_count": 10,
   "metadata": {
    "id": "bwTaiBYPBl2o"
   },
   "outputs": [],
   "source": [
    "lower, upper = 0, 1\n",
    "mu, sigma = 0.5, 0.2\n",
    "\n",
    "x_norm = stats.truncnorm.rvs((lower-mu)/sigma,(upper-mu)/sigma,loc=mu,scale=sigma,size=n)\n",
    "y_norm = stats.truncnorm.rvs((lower-mu)/sigma,(upper-mu)/sigma,loc=mu,scale=sigma,size=n)\n",
    "z_norm = stats.truncnorm.rvs((lower-mu)/sigma,(upper-mu)/sigma,loc=mu,scale=sigma,size=n)"
   ]
  },
  {
   "cell_type": "code",
   "execution_count": 11,
   "metadata": {},
   "outputs": [],
   "source": [
    "data_norm = np.stack((x_norm, y_norm, z_norm), axis=-1)"
   ]
  },
  {
   "cell_type": "markdown",
   "metadata": {
    "id": "JCtD5dBVb_8c"
   },
   "source": [
    "### Log-normal distribution truncated to [0,1]"
   ]
  },
  {
   "cell_type": "markdown",
   "metadata": {
    "id": "Zm6KuvdZ_T8X"
   },
   "source": [
    "#### Sample "
   ]
  },
  {
   "cell_type": "code",
   "execution_count": 12,
   "metadata": {
    "id": "rlJ-LxnUsd1H"
   },
   "outputs": [],
   "source": [
    "# create log-normal from normal by the formula exp(N(0,1)) = log-normal(0,1)\n",
    "#we want a log normal with values between 0 and 1 \n",
    "sig = 0.35\n",
    "s = 0.38\n",
    "\n",
    "x_log = stats.lognorm.rvs(s, loc=0, scale=sig, size=n)\n",
    "y_log = stats.lognorm.rvs(s, loc=0, scale=sig, size=n)\n",
    "z_log = stats.lognorm.rvs(s, loc=0, scale=sig, size=n)\n",
    "# we need to truncate it to values between 0 and 1 +chose parameter "
   ]
  },
  {
   "cell_type": "code",
   "execution_count": 13,
   "metadata": {},
   "outputs": [],
   "source": [
    "data_log = np.stack((x_log, y_log, z_log), axis=-1)\n",
    "data_log = np.delete( data_log, np.where(data_log > 1) , axis = 0 )"
   ]
  },
  {
   "cell_type": "markdown",
   "metadata": {
    "id": "E-jA4JTjcy2-"
   },
   "source": [
    "### Correlation function"
   ]
  },
  {
   "cell_type": "code",
   "execution_count": 14,
   "metadata": {},
   "outputs": [],
   "source": [
    "r_max = 0.5 \n",
    "dr = 0.01"
   ]
  },
  {
   "cell_type": "markdown",
   "metadata": {},
   "source": [
    "try to fit to those types of functions after : \n"
   ]
  },
  {
   "cell_type": "code",
   "execution_count": 15,
   "metadata": {},
   "outputs": [],
   "source": [
    "def f_norm(x, mu, sigma):\n",
    "    return (1/(np.sqrt(2*np.pi)*sigma)*np.exp(-((x-mu)**2)/(2*sigma**2)))"
   ]
  },
  {
   "cell_type": "code",
   "execution_count": 16,
   "metadata": {},
   "outputs": [],
   "source": [
    "def polynome(x, a, b, c, d, e):\n",
    "    return (a*(x**d)+b*(x**e)+c)"
   ]
  },
  {
   "cell_type": "code",
   "execution_count": 17,
   "metadata": {},
   "outputs": [],
   "source": [
    "def polynome_inv(x, a, b, c):\n",
    "    return (a*(1/x)+b*(1/(x**2))+c)"
   ]
  },
  {
   "cell_type": "markdown",
   "metadata": {},
   "source": [
    "### Uniform"
   ]
  },
  {
   "cell_type": "code",
   "execution_count": 18,
   "metadata": {},
   "outputs": [
    {
     "data": {
      "text/plain": [
       "100000"
      ]
     },
     "execution_count": 18,
     "metadata": {},
     "output_type": "execute_result"
    }
   ],
   "source": [
    "len(data_unif)"
   ]
  },
  {
   "cell_type": "code",
   "execution_count": 19,
   "metadata": {},
   "outputs": [],
   "source": [
    "#abscisse, correlation = pair_correlation(data_unif, r_max, dr)"
   ]
  },
  {
   "cell_type": "code",
   "execution_count": 20,
   "metadata": {},
   "outputs": [],
   "source": [
    "#np.savetxt(\"Unif_corr_100_000_rmax=0.5_dr=0.01.txt\", [abscisse, correlation])"
   ]
  },
  {
   "cell_type": "code",
   "execution_count": 21,
   "metadata": {},
   "outputs": [],
   "source": [
    "abscisse, correlation = np.loadtxt(\"Unif_corr_100_000_rmax=0.5_dr=0.01.txt\")"
   ]
  },
  {
   "cell_type": "code",
   "execution_count": null,
   "metadata": {},
   "outputs": [],
   "source": [
    "fig = trace_pair_correlation(abscisse[1:], correlation[1:], 'uniform',\"PaleGreen\", 'green', n)"
   ]
  },
  {
   "cell_type": "code",
   "execution_count": null,
   "metadata": {},
   "outputs": [],
   "source": [
    "fig.show()"
   ]
  },
  {
   "cell_type": "code",
   "execution_count": null,
   "metadata": {},
   "outputs": [],
   "source": [
    "a,b,c, d, e = sp.optimize.curve_fit(polynome, abscisse[1:], correlation[1:], maxfev = 1200000 )"
   ]
  },
  {
   "cell_type": "code",
   "execution_count": null,
   "metadata": {},
   "outputs": [],
   "source": [
    "x_min = 0\n",
    "x_max = 0.5\n",
    "\n",
    "mean = 0.5\n",
    "std = 0.15\n",
    "\n",
    "x = np.linspace(0, 0.5, 100)\n",
    "\n",
    "fig.add_trace(go.Scatter(x = np.linspace(0.1, 0.5, 100), y =polynome(x,a, b,c)))"
   ]
  },
  {
   "cell_type": "code",
   "execution_count": null,
   "metadata": {},
   "outputs": [],
   "source": [
    "x = np.arange(0, k*n, n)\n",
    "y = evol_time\n",
    "fig = px.scatter(x = x, y = y)\n",
    "fig.show()\n",
    "evol_time # en secondes"
   ]
  },
  {
   "cell_type": "markdown",
   "metadata": {},
   "source": [
    "### Normal"
   ]
  },
  {
   "cell_type": "code",
   "execution_count": null,
   "metadata": {},
   "outputs": [],
   "source": [
    "abscisse_norm, correlation_norm = pair_correlation(data_norm, 0.5, 0.01)"
   ]
  },
  {
   "cell_type": "code",
   "execution_count": null,
   "metadata": {},
   "outputs": [],
   "source": [
    "np.savetxt(\"Norm_corr_100_000_rmax=0.5_dr=0.01.txt\", [abscisse_norm, correlation_norm])"
   ]
  },
  {
   "cell_type": "code",
   "execution_count": null,
   "metadata": {},
   "outputs": [],
   "source": [
    "abscisse_norm, correlation_norm = np.loadtxt(\"Norm_corr_100_000_rmax=0.5_dr=0.01.txt\")"
   ]
  },
  {
   "cell_type": "code",
   "execution_count": null,
   "metadata": {},
   "outputs": [],
   "source": [
    "fig_norm1 = trace_pair_correlation(abscisse_norm, correlation_norm, 'normal','lightblue', 'blue', n)\n",
    "fig_norm1.show()"
   ]
  },
  {
   "cell_type": "code",
   "execution_count": null,
   "metadata": {},
   "outputs": [],
   "source": [
    "a,b,c  = sp.optimize.curve_fit(polynome, abscisse_norm[1:], correlation_norm[1:] )[0]"
   ]
  },
  {
   "cell_type": "code",
   "execution_count": null,
   "metadata": {},
   "outputs": [],
   "source": [
    "x = np.linspace(0, 0.5, 40)\n",
    "fig_norm1.add_trace(go.Scatter(x = x, y = polynome(x, a,b,c) , marker_color = 'pink'))"
   ]
  },
  {
   "cell_type": "markdown",
   "metadata": {},
   "source": [
    "#### Other method (see overleaf)"
   ]
  },
  {
   "cell_type": "code",
   "execution_count": null,
   "metadata": {},
   "outputs": [],
   "source": [
    "corr_norm = make_bins(data_norm, r_max, dr) / make_bins(data_unif, r_max, dr)"
   ]
  },
  {
   "cell_type": "code",
   "execution_count": null,
   "metadata": {},
   "outputs": [],
   "source": [
    "corr_norm = corr_norm - 1 \n",
    "abs_corr_norm = np.arange(0, r_max, dr)"
   ]
  },
  {
   "cell_type": "code",
   "execution_count": null,
   "metadata": {},
   "outputs": [],
   "source": [
    "#np.savetxt(\"Norm_corr_autre_methode_100_000_rmax=0.5_dr=0.01.txt\", [abs_corr_norm, corr_norm])"
   ]
  },
  {
   "cell_type": "code",
   "execution_count": null,
   "metadata": {},
   "outputs": [],
   "source": [
    "abs_corr_norm, corr_norm = np.loadtxt(\"Norm_corr_autre_methode_100_000_rmax=0.5_dr=0.01.txt\")"
   ]
  },
  {
   "cell_type": "code",
   "execution_count": null,
   "metadata": {},
   "outputs": [],
   "source": [
    "fig_norm_2 = trace_pair_correlation(abs_corr_norm, corr_norm, 'normal', 'lightblue', 'blue', n)"
   ]
  },
  {
   "cell_type": "code",
   "execution_count": null,
   "metadata": {},
   "outputs": [],
   "source": [
    "fig_norm_2"
   ]
  },
  {
   "cell_type": "code",
   "execution_count": null,
   "metadata": {},
   "outputs": [],
   "source": [
    "mu, sig = sp.optimize.curve_fit(f_norm, abs_corr_norm, corr_norm)[0]"
   ]
  },
  {
   "cell_type": "code",
   "execution_count": null,
   "metadata": {},
   "outputs": [],
   "source": [
    "mu"
   ]
  },
  {
   "cell_type": "code",
   "execution_count": null,
   "metadata": {},
   "outputs": [],
   "source": [
    "sig"
   ]
  },
  {
   "cell_type": "code",
   "execution_count": null,
   "metadata": {},
   "outputs": [],
   "source": [
    "x = np.linspace(0, 0.5, 30)\n",
    "fig_norm_2.add_trace(go.Scatter(x = x, y = f_norm(x,mu,sig),marker_color = 'deepskyblue'))"
   ]
  },
  {
   "cell_type": "markdown",
   "metadata": {},
   "source": [
    "### Log-normal"
   ]
  },
  {
   "cell_type": "code",
   "execution_count": null,
   "metadata": {},
   "outputs": [],
   "source": [
    "absi_log , corr_log = pair_correlation(data_log, 0.5, 0.01)"
   ]
  },
  {
   "cell_type": "code",
   "execution_count": null,
   "metadata": {},
   "outputs": [],
   "source": [
    "np.savetxt(\"Log_corr_100_000_rmax=0.5_dr=0.01.txt\", [absi_log , corr_log])"
   ]
  },
  {
   "cell_type": "code",
   "execution_count": null,
   "metadata": {},
   "outputs": [],
   "source": [
    "absi_log , corr_log = np.loadtxt(\"Log_corr_50000_rmax=0.5_dr=0.01.txt\")"
   ]
  },
  {
   "cell_type": "code",
   "execution_count": null,
   "metadata": {},
   "outputs": [],
   "source": [
    "fig_log = trace_pair_correlation(absi_log, corr_log, 'log-normal', 'mistyrose', 'red', n)"
   ]
  },
  {
   "cell_type": "code",
   "execution_count": null,
   "metadata": {},
   "outputs": [],
   "source": [
    "fig_log.show()"
   ]
  },
  {
   "cell_type": "code",
   "execution_count": null,
   "metadata": {},
   "outputs": [],
   "source": [
    "a,b,c,d,e = sp.optimize.curve_fit(polynome, absi_log[1:] , corr_log[1:], maxfev = 1200000)[0]"
   ]
  },
  {
   "cell_type": "code",
   "execution_count": null,
   "metadata": {},
   "outputs": [],
   "source": [
    "a"
   ]
  },
  {
   "cell_type": "code",
   "execution_count": null,
   "metadata": {},
   "outputs": [],
   "source": [
    "d"
   ]
  },
  {
   "cell_type": "code",
   "execution_count": null,
   "metadata": {},
   "outputs": [],
   "source": [
    "c"
   ]
  },
  {
   "cell_type": "code",
   "execution_count": null,
   "metadata": {},
   "outputs": [],
   "source": []
  },
  {
   "cell_type": "code",
   "execution_count": null,
   "metadata": {},
   "outputs": [],
   "source": [
    "x = np.linspace(0, 0.5, 30)\n",
    "fig_log.add_trace(go.Scatter(x = x[1:], y = polynome(x[1:], a, b, c, d, e), marker_color = 'green'))"
   ]
  },
  {
   "cell_type": "code",
   "execution_count": null,
   "metadata": {},
   "outputs": [],
   "source": [
    "a,b,c  = sp.optimize.curve_fit(polynome_inv, absi_log[1:] , corr_log[1:])[0]"
   ]
  },
  {
   "cell_type": "code",
   "execution_count": null,
   "metadata": {},
   "outputs": [],
   "source": [
    "a"
   ]
  },
  {
   "cell_type": "code",
   "execution_count": null,
   "metadata": {},
   "outputs": [],
   "source": [
    "b"
   ]
  },
  {
   "cell_type": "code",
   "execution_count": null,
   "metadata": {},
   "outputs": [],
   "source": [
    "c"
   ]
  },
  {
   "cell_type": "code",
   "execution_count": null,
   "metadata": {},
   "outputs": [],
   "source": [
    "x = np.linspace(0, 0.5, 30)\n",
    "fig_log.add_trace(go.Scatter(x = x[1:], y = polynome_inv(x[1:], a, b, c), marker_color = 'firebrick'))"
   ]
  },
  {
   "cell_type": "markdown",
   "metadata": {},
   "source": [
    "## Data"
   ]
  },
  {
   "cell_type": "code",
   "execution_count": 22,
   "metadata": {},
   "outputs": [],
   "source": [
    "data = np.loadtxt(\"xz0\")\n",
    "x = data[:,0]\n",
    "y = data[:,1]\n",
    "z = data[:,2]"
   ]
  },
  {
   "cell_type": "code",
   "execution_count": 23,
   "metadata": {},
   "outputs": [],
   "source": [
    "data = np.stack((x, y, z), axis=-1)"
   ]
  },
  {
   "cell_type": "markdown",
   "metadata": {},
   "source": [
    "fig = plt.figure()\n",
    "ax = plt.axes(projection='3d')\n",
    "ax.scatter3D(x, y, z, c=z, cmap='Blues');"
   ]
  },
  {
   "cell_type": "code",
   "execution_count": 24,
   "metadata": {},
   "outputs": [],
   "source": [
    "n_select = 200000\n",
    "number_of_rows = data.shape[0]\n",
    "random_indices = np.random.choice(number_of_rows, size=n_select, replace=False)\n",
    "random_rows = data[random_indices, :]"
   ]
  },
  {
   "cell_type": "code",
   "execution_count": null,
   "metadata": {},
   "outputs": [],
   "source": [
    "correlation_data = pair_correlation(random_rows, r_max, dr)"
   ]
  },
  {
   "cell_type": "code",
   "execution_count": null,
   "metadata": {},
   "outputs": [],
   "source": [
    "fig_data = trace_pair_correlation(correlation_data[0], correlation_data[1], 'unknown','lightblue', 'pink', n_select)\n",
    "fig_data.show()"
   ]
  },
  {
   "cell_type": "code",
   "execution_count": null,
   "metadata": {},
   "outputs": [],
   "source": [
    "(correlation_data[0], correlation_data[1])"
   ]
  },
  {
   "cell_type": "markdown",
   "metadata": {},
   "source": [
    "## Bins not corr "
   ]
  },
  {
   "cell_type": "code",
   "execution_count": null,
   "metadata": {},
   "outputs": [],
   "source": [
    "bins_norm = make_bins(data_norm, r_max, dr)"
   ]
  },
  {
   "cell_type": "code",
   "execution_count": null,
   "metadata": {},
   "outputs": [],
   "source": [
    "# Bins\n",
    "fig = px.scatter(x = np.arange(0, r_max, dr),y = bins_norm)\n",
    "fig.update_layout(\n",
    "    title=\"Bins for pair correlation function of a normal distribution before normalization\",\n",
    "    xaxis_title=\"radius\",\n",
    "    yaxis_title=\"correlation\",\n",
    "    legend_title=\"\",\n",
    "    font=dict(\n",
    "        family=\"Courier New, monospace\",\n",
    "        size=14,\n",
    "        color=\"RebeccaPurple\"\n",
    "    )\n",
    ")\n",
    "fig.show()"
   ]
  },
  {
   "cell_type": "code",
   "execution_count": null,
   "metadata": {},
   "outputs": [],
   "source": [
    "bins_log = make_bins(data_log, r_max, dr)"
   ]
  },
  {
   "cell_type": "code",
   "execution_count": null,
   "metadata": {},
   "outputs": [],
   "source": [
    "# Bins \n",
    "fig = px.scatter(x = np.arange(0, r_max, dr),y = bins_log)\n",
    "fig.update_layout(\n",
    "    title=\"Bins for pair correlation function of a log-normal distribution before normalization\",\n",
    "    xaxis_title=\"radius\",\n",
    "    yaxis_title=\"correlation\",\n",
    "    legend_title=\"\",\n",
    "    font=dict(\n",
    "        family=\"Courier New, monospace\",\n",
    "        size=14,\n",
    "        color=\"RebeccaPurple\"\n",
    "    )\n",
    ")\n",
    "fig.show()"
   ]
  },
  {
   "cell_type": "markdown",
   "metadata": {},
   "source": [
    "## Temporary "
   ]
  },
  {
   "cell_type": "code",
   "execution_count": null,
   "metadata": {},
   "outputs": [],
   "source": [
    "import time\n",
    "k = 20\n",
    "n = 1000\n",
    "t0 = time.time()\n",
    "evol_time = np.empty(k)\n",
    "for i in range(k):\n",
    "    data_unif = np.random.uniform(0,1,(n*i+1,3))\n",
    "    correlation = pair_correlation(data_unif, 0.5, 0.01)\n",
    "    t1 = time.time()\n",
    "    evol_time[i] = t1-t0\n",
    "    t0=t1\n",
    "    \n",
    "time.time()"
   ]
  },
  {
   "cell_type": "code",
   "execution_count": null,
   "metadata": {},
   "outputs": [],
   "source": [
    "fig = px.scatter(x = np.arange(0,20000, 1000),y = evol_time)"
   ]
  },
  {
   "cell_type": "code",
   "execution_count": null,
   "metadata": {},
   "outputs": [],
   "source": [
    "fig.show()"
   ]
  },
  {
   "cell_type": "code",
   "execution_count": null,
   "metadata": {},
   "outputs": [],
   "source": [
    "%%time\n",
    "tree = cKDTree(data_norm)\n",
    "r_max = math.sqrt(2)/2\n",
    "dr = 0.03\n",
    "b = np.zeros(n)\n",
    "bins_norm = np.empty(math.floor(r_max/dr)+1)\n",
    "for i in range(math.floor(r_max/dr)+1):\n",
    "    a = tree.query_ball_point(data_norm, i*dr+dr, return_length = True)\n",
    "    bins_norm[i] = sum(a) - sum(b)\n",
    "    b = a\n",
    "sum(bins_norm)"
   ]
  }
 ],
 "metadata": {
  "colab": {
   "collapsed_sections": [],
   "name": "Corrolation-functions.ipynb",
   "provenance": [],
   "toc_visible": true
  },
  "kernelspec": {
   "display_name": "Python 3",
   "language": "python",
   "name": "python3"
  },
  "language_info": {
   "codemirror_mode": {
    "name": "ipython",
    "version": 3
   },
   "file_extension": ".py",
   "mimetype": "text/x-python",
   "name": "python",
   "nbconvert_exporter": "python",
   "pygments_lexer": "ipython3",
   "version": "3.9.5"
  }
 },
 "nbformat": 4,
 "nbformat_minor": 1
}
