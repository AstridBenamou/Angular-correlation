{
 "cells": [
  {
   "cell_type": "markdown",
   "id": "70014a20",
   "metadata": {},
   "source": [
    "# Import"
   ]
  },
  {
   "cell_type": "code",
   "execution_count": 116,
   "id": "75bda335",
   "metadata": {},
   "outputs": [],
   "source": [
    "import numpy as np \n",
    "import math \n",
    "import scipy as sp\n",
    "from scipy import stats\n",
    "import pandas as pd\n",
    "import matplotlib.pyplot as plt\n",
    "import scipy.stats as stats\n",
    "from mpl_toolkits import mplot3d\n",
    "%matplotlib inline\n",
    "import plotly.express as px\n",
    "import plotly.graph_objects as go"
   ]
  },
  {
   "cell_type": "markdown",
   "id": "33da9fea",
   "metadata": {},
   "source": [
    "# Particules in a sphere centered on the box \n",
    "\n",
    "The particules have 3 coordinates in the sphere :\n",
    "Angles Phi and Teta and radius Rad"
   ]
  },
  {
   "cell_type": "markdown",
   "id": "35f07432",
   "metadata": {},
   "source": [
    "### Number of particules "
   ]
  },
  {
   "cell_type": "code",
   "execution_count": 117,
   "id": "ecf2fc38",
   "metadata": {},
   "outputs": [],
   "source": [
    "n = 1000"
   ]
  },
  {
   "cell_type": "markdown",
   "id": "1e193490",
   "metadata": {},
   "source": [
    "### Uniform distribution"
   ]
  },
  {
   "cell_type": "markdown",
   "id": "a0cfbd19",
   "metadata": {},
   "source": [
    "#### Sample "
   ]
  },
  {
   "cell_type": "code",
   "execution_count": 118,
   "id": "ee63b907",
   "metadata": {},
   "outputs": [],
   "source": [
    "data_unif = np.random.uniform(0,1,(n,3))"
   ]
  },
  {
   "cell_type": "code",
   "execution_count": 119,
   "id": "0cabbc67",
   "metadata": {},
   "outputs": [],
   "source": [
    "def data_to_angular(data):\n",
    "    rad = np.sqrt((data[:,0]-0.5)**2+(data[:,1]-0.5)**2+(data[:,2]-0.5)**2)\n",
    "    teta = np.arccos(data[:,0]/np.sqrt(data[:,0]**2 + data[:,1]**2))\n",
    "    phi = np.arccos(data[:,0]/np.sqrt(data[:,0]**2 + data[:,2]**2)) \n",
    "    return(np.stack((rad, phi, teta), axis=-1))"
   ]
  },
  {
   "cell_type": "markdown",
   "id": "9fc3e764",
   "metadata": {},
   "source": [
    "#### Transform data to angular coordinates "
   ]
  },
  {
   "cell_type": "code",
   "execution_count": 120,
   "id": "c06056d4",
   "metadata": {},
   "outputs": [],
   "source": [
    "data_unif_angular = data_to_angular(data_unif)"
   ]
  },
  {
   "cell_type": "markdown",
   "id": "46b6efd6",
   "metadata": {},
   "source": [
    "### Normal distribution "
   ]
  },
  {
   "cell_type": "markdown",
   "id": "6a61a552",
   "metadata": {},
   "source": [
    "In a box"
   ]
  },
  {
   "cell_type": "code",
   "execution_count": 121,
   "id": "4ef8def4",
   "metadata": {},
   "outputs": [],
   "source": [
    "lower, upper = 0, 1\n",
    "mu, sigma = 0.5, 0.2\n",
    "\n",
    "x_norm = stats.truncnorm.rvs((lower-mu)/sigma,(upper-mu)/sigma,loc=mu,scale=sigma,size=n)\n",
    "y_norm = stats.truncnorm.rvs((lower-mu)/sigma,(upper-mu)/sigma,loc=mu,scale=sigma,size=n)\n",
    "z_norm = stats.truncnorm.rvs((lower-mu)/sigma,(upper-mu)/sigma,loc=mu,scale=sigma,size=n)\n",
    "\n",
    "data_norm = np.stack((x_norm, y_norm, z_norm), axis=-1)"
   ]
  },
  {
   "cell_type": "code",
   "execution_count": 122,
   "id": "560fafd7",
   "metadata": {},
   "outputs": [],
   "source": [
    "data_norm_angular = data_to_angular(data_norm)"
   ]
  },
  {
   "cell_type": "markdown",
   "id": "e0c667bf",
   "metadata": {},
   "source": [
    "### Log-normal distribution"
   ]
  },
  {
   "cell_type": "code",
   "execution_count": 123,
   "id": "f340f860",
   "metadata": {},
   "outputs": [],
   "source": [
    "sig = 0.35\n",
    "s = 0.38\n",
    "\n",
    "x_log = stats.lognorm.rvs(s, loc=0, scale=sig, size=n)\n",
    "y_log = stats.lognorm.rvs(s, loc=0, scale=sig, size=n)\n",
    "z_log = stats.lognorm.rvs(s, loc=0, scale=sig, size=n)"
   ]
  },
  {
   "cell_type": "code",
   "execution_count": 124,
   "id": "e2d8a1c3",
   "metadata": {},
   "outputs": [],
   "source": [
    "data_log = np.stack((x_log, y_log, z_log), axis=-1)\n",
    "data_log = np.delete( data_log, np.where(data_log > 1) , axis = 0 )"
   ]
  },
  {
   "cell_type": "code",
   "execution_count": 125,
   "id": "39974e92",
   "metadata": {},
   "outputs": [],
   "source": [
    "data_log_angular = data_to_angular(data_log)"
   ]
  },
  {
   "cell_type": "code",
   "execution_count": 126,
   "id": "8a22199a",
   "metadata": {},
   "outputs": [
    {
     "data": {
      "text/plain": [
       "array([0.26469383, 0.7196356 , 1.04019399])"
      ]
     },
     "execution_count": 126,
     "metadata": {},
     "output_type": "execute_result"
    }
   ],
   "source": [
    "data_log_angular[0]"
   ]
  },
  {
   "cell_type": "markdown",
   "id": "77859cf8",
   "metadata": {},
   "source": [
    "### Angular correlation"
   ]
  },
  {
   "cell_type": "markdown",
   "id": "f70147f8",
   "metadata": {},
   "source": [
    "#### longueur d'arc de cercle entre 2 points"
   ]
  },
  {
   "cell_type": "code",
   "execution_count": 127,
   "id": "8158324e",
   "metadata": {},
   "outputs": [],
   "source": [
    "r = 0.5\n",
    "def arc_length(point_1, point_2, radius):\n",
    "    delta_sig = np.arccos(np.sin(point_1[1])*np.sin(point_2[1])+np.cos(point_1[1])*np.cos(point_2[1])*np.cos(abs(point_1[2]-point_2[2])))\n",
    "    return(delta_sig*r)\n"
   ]
  },
  {
   "cell_type": "code",
   "execution_count": 128,
   "id": "6bab69c9",
   "metadata": {},
   "outputs": [
    {
     "data": {
      "text/plain": [
       "78"
      ]
     },
     "execution_count": 128,
     "metadata": {},
     "output_type": "execute_result"
    }
   ],
   "source": [
    "math.floor(np.pi/(0.02*2))"
   ]
  },
  {
   "cell_type": "code",
   "execution_count": 129,
   "id": "a29ca4bc",
   "metadata": {},
   "outputs": [],
   "source": [
    "point_1 = data_log_angular[0]"
   ]
  },
  {
   "cell_type": "code",
   "execution_count": 130,
   "id": "a49453e1",
   "metadata": {},
   "outputs": [],
   "source": [
    "point_2 = data_log_angular[1]"
   ]
  },
  {
   "cell_type": "code",
   "execution_count": 131,
   "id": "2761f595",
   "metadata": {},
   "outputs": [
    {
     "data": {
      "text/plain": [
       "0.2431478510948091"
      ]
     },
     "execution_count": 131,
     "metadata": {},
     "output_type": "execute_result"
    }
   ],
   "source": [
    "np.arccos(np.sin(point_1[1])*np.sin(point_2[1])+np.cos(point_1[1])*np.cos(point_2[1])*np.cos(abs(point_1[2]-point_2[2])))"
   ]
  },
  {
   "cell_type": "code",
   "execution_count": 132,
   "id": "29c6442f",
   "metadata": {},
   "outputs": [
    {
     "data": {
      "text/plain": [
       "array([0.        , 0.31415927, 0.62831853, 0.9424778 , 1.25663706,\n",
       "       1.57079633, 1.88495559, 2.19911486, 2.51327412, 2.82743339,\n",
       "       3.14159265, 3.45575192, 3.76991118, 4.08407045, 4.39822972,\n",
       "       4.71238898])"
      ]
     },
     "execution_count": 132,
     "metadata": {},
     "output_type": "execute_result"
    }
   ],
   "source": [
    "d = 0.05\n",
    "np.arange(math.floor((np.pi*r)/(2*d))+1)*d*2*np.pi"
   ]
  },
  {
   "cell_type": "code",
   "execution_count": 138,
   "id": "5a36b1ad",
   "metadata": {},
   "outputs": [],
   "source": [
    "#Max arc length is Pi \n",
    "#Same as for the box but using arc length between points \n",
    "\n",
    "def angular_pair_correlation(data, r, d):\n",
    "    bins = np.zeros(math.floor((np.pi*r)/(2*d))+1)\n",
    "    for i in range(len(data)):\n",
    "        for j in range(i+1, len(data)):\n",
    "            l = arc_length(data[i],data[j], r)\n",
    "            bins[math.floor(l/d)] += 1\n",
    "    #we need to normalize  divide each bins by the perimeter of the circle of radius r \n",
    "    p = (np.arange(math.floor((np.pi*r)/(2*d))+1)+1)*d*2*np.pi\n",
    "    return(np.divide(bins, p))\n",
    "\n",
    "\n",
    " "
   ]
  },
  {
   "cell_type": "code",
   "execution_count": 140,
   "id": "4b111ad2",
   "metadata": {},
   "outputs": [],
   "source": [
    "res = angular_pair_correlation(data_unif_angular, 0.5, 0.01)"
   ]
  },
  {
   "cell_type": "code",
   "execution_count": 141,
   "id": "30b4fba7",
   "metadata": {},
   "outputs": [
    {
     "data": {
      "text/plain": [
       "array([1.58200013e+04, 1.88519030e+04, 1.82603771e+04, 1.73478888e+04,\n",
       "       1.67462831e+04, 1.63637807e+04, 1.54152931e+04, 1.47954414e+04,\n",
       "       1.40480763e+04, 1.34867899e+04, 1.30753020e+04, 1.27854471e+04,\n",
       "       1.20333380e+04, 1.15762485e+04, 1.12830244e+04, 1.09627914e+04,\n",
       "       1.08244085e+04, 1.00506347e+04, 9.89273620e+03, 9.29066980e+03,\n",
       "       9.21582909e+03, 8.77016080e+03, 8.37155001e+03, 8.09966031e+03,\n",
       "       7.70373587e+03, 7.29664201e+03, 6.94622907e+03, 6.66745529e+03,\n",
       "       6.40680967e+03, 5.94019299e+03, 5.87230400e+03, 5.38142651e+03,\n",
       "       5.13781094e+03, 4.86780074e+03, 4.61367444e+03, 4.35686657e+03,\n",
       "       4.16254698e+03, 3.86076386e+03, 3.55935747e+03, 3.32474676e+03,\n",
       "       3.09032318e+03, 2.91973533e+03, 2.62864746e+03, 2.42421916e+03,\n",
       "       2.25504870e+03, 2.08908162e+03, 1.99045267e+03, 1.78585109e+03,\n",
       "       1.61818352e+03, 1.52947900e+03, 1.42490484e+03, 1.30354020e+03,\n",
       "       1.21858634e+03, 1.11821084e+03, 1.07472992e+03, 9.69139921e+02,\n",
       "       9.27007739e+02, 8.63278364e+02, 7.67450531e+02, 7.11953112e+02,\n",
       "       6.41316148e+02, 5.94264021e+02, 5.33295373e+02, 4.99597314e+02,\n",
       "       4.44654426e+02, 4.16696578e+02, 3.77696059e+02, 3.02394392e+02,\n",
       "       2.96397249e+02, 2.65334027e+02, 2.26851834e+02, 1.99385776e+02,\n",
       "       1.59590984e+02, 1.16570242e+02, 1.16925832e+02, 8.52316603e+01,\n",
       "       7.42034085e+01, 3.93806462e+01, 5.43947274e+00])"
      ]
     },
     "execution_count": 141,
     "metadata": {},
     "output_type": "execute_result"
    }
   ],
   "source": [
    "res"
   ]
  },
  {
   "cell_type": "code",
   "execution_count": null,
   "id": "6e2ac913",
   "metadata": {},
   "outputs": [],
   "source": []
  }
 ],
 "metadata": {
  "kernelspec": {
   "display_name": "Python 3",
   "language": "python",
   "name": "python3"
  },
  "language_info": {
   "codemirror_mode": {
    "name": "ipython",
    "version": 3
   },
   "file_extension": ".py",
   "mimetype": "text/x-python",
   "name": "python",
   "nbconvert_exporter": "python",
   "pygments_lexer": "ipython3",
   "version": "3.9.5"
  }
 },
 "nbformat": 4,
 "nbformat_minor": 5
}
