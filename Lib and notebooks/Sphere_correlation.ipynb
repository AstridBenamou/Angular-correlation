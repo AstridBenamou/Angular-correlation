{
 "cells": [
  {
   "cell_type": "markdown",
   "id": "70014a20",
   "metadata": {},
   "source": [
    "# Import"
   ]
  },
  {
   "cell_type": "code",
   "execution_count": 148,
   "id": "75bda335",
   "metadata": {},
   "outputs": [],
   "source": [
    "import numpy as np \n",
    "import math \n",
    "import scipy as sp\n",
    "from scipy import stats\n",
    "import pandas as pd\n",
    "import matplotlib.pyplot as plt\n",
    "import scipy.stats as stats\n",
    "from mpl_toolkits import mplot3d\n",
    "%matplotlib inline\n",
    "import plotly.express as px\n",
    "import plotly.graph_objects as go"
   ]
  },
  {
   "cell_type": "markdown",
   "id": "33da9fea",
   "metadata": {},
   "source": [
    "# Particules in a sphere centered on the box \n",
    "\n",
    "The particules have 3 coordinates in the sphere :\n",
    "Angles Phi and Teta and radius Rad"
   ]
  },
  {
   "cell_type": "markdown",
   "id": "35f07432",
   "metadata": {},
   "source": [
    "### Number of particules "
   ]
  },
  {
   "cell_type": "code",
   "execution_count": 149,
   "id": "ecf2fc38",
   "metadata": {},
   "outputs": [],
   "source": [
    "n = 2000"
   ]
  },
  {
   "cell_type": "markdown",
   "id": "1e193490",
   "metadata": {},
   "source": [
    "### Uniform distribution"
   ]
  },
  {
   "cell_type": "markdown",
   "id": "a0cfbd19",
   "metadata": {},
   "source": [
    "#### Sample "
   ]
  },
  {
   "cell_type": "code",
   "execution_count": 150,
   "id": "ee63b907",
   "metadata": {},
   "outputs": [],
   "source": [
    "data_unif = np.random.uniform(0,1,(n,3))"
   ]
  },
  {
   "cell_type": "code",
   "execution_count": 151,
   "id": "0cabbc67",
   "metadata": {},
   "outputs": [],
   "source": [
    "def data_to_angular(data):\n",
    "    rad = np.sqrt((data[:,0]-0.5)**2+(data[:,1]-0.5)**2+(data[:,2]-0.5)**2)\n",
    "    teta = np.arccos((data[:,0])/(np.sqrt((data[:,0])**2 + (data[:,1])**2)))\n",
    "    phi = np.arccos((data[:,0])/np.sqrt((data[:,0])**2 + (data[:,2])**2)) \n",
    "    return(np.stack((rad, phi, teta), axis=-1))"
   ]
  },
  {
   "cell_type": "markdown",
   "id": "9fc3e764",
   "metadata": {},
   "source": [
    "#### Transform data to angular coordinates "
   ]
  },
  {
   "cell_type": "code",
   "execution_count": 152,
   "id": "c06056d4",
   "metadata": {},
   "outputs": [],
   "source": [
    "data_unif_angular = data_to_angular(data_unif)"
   ]
  },
  {
   "cell_type": "markdown",
   "id": "46b6efd6",
   "metadata": {},
   "source": [
    "### Normal distribution "
   ]
  },
  {
   "cell_type": "markdown",
   "id": "6a61a552",
   "metadata": {},
   "source": [
    "In a box"
   ]
  },
  {
   "cell_type": "code",
   "execution_count": 153,
   "id": "4ef8def4",
   "metadata": {},
   "outputs": [],
   "source": [
    "lower, upper = 0, 1\n",
    "mu, sigma = 0.5, 0.2\n",
    "\n",
    "x_norm = stats.truncnorm.rvs((lower-mu)/sigma,(upper-mu)/sigma,loc=mu,scale=sigma,size=n)\n",
    "y_norm = stats.truncnorm.rvs((lower-mu)/sigma,(upper-mu)/sigma,loc=mu,scale=sigma,size=n)\n",
    "z_norm = stats.truncnorm.rvs((lower-mu)/sigma,(upper-mu)/sigma,loc=mu,scale=sigma,size=n)\n",
    "\n",
    "data_norm = np.stack((x_norm, y_norm, z_norm), axis=-1)"
   ]
  },
  {
   "cell_type": "code",
   "execution_count": 154,
   "id": "560fafd7",
   "metadata": {},
   "outputs": [],
   "source": [
    "data_norm_angular = data_to_angular(data_norm)"
   ]
  },
  {
   "cell_type": "markdown",
   "id": "e0c667bf",
   "metadata": {},
   "source": [
    "### Log-normal distribution"
   ]
  },
  {
   "cell_type": "code",
   "execution_count": 155,
   "id": "f340f860",
   "metadata": {},
   "outputs": [],
   "source": [
    "sig = 0.35\n",
    "s = 0.38\n",
    "\n",
    "x_log = stats.lognorm.rvs(s, loc=0, scale=sig, size=n)\n",
    "y_log = stats.lognorm.rvs(s, loc=0, scale=sig, size=n)\n",
    "z_log = stats.lognorm.rvs(s, loc=0, scale=sig, size=n)"
   ]
  },
  {
   "cell_type": "code",
   "execution_count": 156,
   "id": "e2d8a1c3",
   "metadata": {},
   "outputs": [],
   "source": [
    "data_log = np.stack((x_log, y_log, z_log), axis=-1)\n",
    "data_log = np.delete( data_log, np.where(data_log > 1) , axis = 0 )"
   ]
  },
  {
   "cell_type": "code",
   "execution_count": 157,
   "id": "39974e92",
   "metadata": {},
   "outputs": [],
   "source": [
    "data_log_angular = data_to_angular(data_log)"
   ]
  },
  {
   "cell_type": "markdown",
   "id": "77859cf8",
   "metadata": {},
   "source": [
    "### Angular correlation"
   ]
  },
  {
   "cell_type": "markdown",
   "id": "f70147f8",
   "metadata": {},
   "source": [
    "#### longueur d'arc de cercle entre 2 points"
   ]
  },
  {
   "cell_type": "code",
   "execution_count": 208,
   "id": "8158324e",
   "metadata": {},
   "outputs": [],
   "source": [
    "r = 0.5\n",
    "def arc_length(point_1, point_2):\n",
    "    delta_sig = np.arccos(np.cos(point_1[1]-point_2[1])*np.cos(point_1[2]-point_2[2]))\n",
    "    return(delta_sig)"
   ]
  },
  {
   "cell_type": "code",
   "execution_count": 230,
   "id": "5a36b1ad",
   "metadata": {},
   "outputs": [],
   "source": [
    "#Max arc length is Pi \n",
    "#Same as for the box but using arc length between points \n",
    "\n",
    "def angular_pair_correlation(data, d):\n",
    "    bins = np.zeros(math.floor((np.pi)/(2*d))+1)\n",
    "    for i in range(len(data)):\n",
    "        for j in range(i+1, len(data)):\n",
    "            l = arc_length(data[i],data[j])\n",
    "            if math.floor(l/d) == math.floor((np.pi)/(2*d)):\n",
    "                print(math.floor(l/d))\n",
    "            bins[math.floor(l/d)] += 1\n",
    "    #we need to normalize  divide each bins by the perimeter of the circle of radius r\n",
    "    #p = np.linspace(d, np.pi/2, math.floor((np.pi*r)/(d))+1)\n",
    "    return(bins)"
   ]
  },
  {
   "cell_type": "code",
   "execution_count": 231,
   "id": "4b111ad2",
   "metadata": {},
   "outputs": [
    {
     "name": "stdout",
     "output_type": "stream",
     "text": [
      "157\n",
      "157\n",
      "157\n",
      "157\n",
      "157\n",
      "157\n",
      "157\n",
      "157\n",
      "157\n",
      "157\n",
      "157\n",
      "157\n",
      "157\n",
      "157\n",
      "157\n",
      "157\n",
      "157\n",
      "157\n"
     ]
    }
   ],
   "source": [
    "res_2000 = angular_pair_correlation(data_unif_angular, 0.01)"
   ]
  },
  {
   "cell_type": "code",
   "execution_count": 232,
   "id": "30b4fba7",
   "metadata": {},
   "outputs": [],
   "source": [
    "res_norm_2000 = angular_pair_correlation(data_norm_angular, 0.01)"
   ]
  },
  {
   "cell_type": "code",
   "execution_count": 235,
   "id": "52b5f39e",
   "metadata": {},
   "outputs": [
    {
     "data": {
      "text/plain": [
       "array([1.86061947, 1.94057858, 1.87674419, 2.07764877, 2.17342409,\n",
       "       2.14089595, 2.21928721, 2.34764114, 2.18209977, 2.30547945,\n",
       "       2.3073459 , 2.2254582 , 2.27975976, 2.29008403, 2.31204458,\n",
       "       2.34245302, 2.33065465, 2.32251388, 2.28527718, 2.30415661,\n",
       "       2.27506234, 2.27931118, 2.19866329, 2.24027408, 2.24509586,\n",
       "       2.18802619, 2.13915292, 2.12105689, 2.11421303, 2.01165994,\n",
       "       2.03540048, 2.00119227, 1.95898473, 1.95455099, 1.93848278,\n",
       "       1.87025001, 1.81935001, 1.80458397, 1.76282956, 1.75799604,\n",
       "       1.6719961 , 1.65890038, 1.64178861, 1.61795305, 1.56744533,\n",
       "       1.5346561 , 1.49881672, 1.45654101, 1.42336788, 1.39429198,\n",
       "       1.35085366, 1.3243871 , 1.30219105, 1.28430516, 1.21760747,\n",
       "       1.20783818, 1.16619462, 1.12619108, 1.10492854, 1.07815672,\n",
       "       1.06007585, 1.01765177, 0.99853313, 0.9587966 , 0.96043239,\n",
       "       0.91598535, 0.89429005, 0.87379286, 0.86223655, 0.82054321,\n",
       "       0.79751432, 0.76999588, 0.75664963, 0.72648822, 0.70579672,\n",
       "       0.69766834, 0.67051993, 0.65226403, 0.63735969, 0.62209208,\n",
       "       0.61483516, 0.58692291, 0.55691691, 0.55529037, 0.54285226,\n",
       "       0.5132151 , 0.50057964, 0.49465919, 0.48434466, 0.4649107 ,\n",
       "       0.46072583, 0.43466207, 0.43055468, 0.41787624, 0.39575994,\n",
       "       0.39517179, 0.37632637, 0.37985225, 0.36474456, 0.34634796,\n",
       "       0.33323788, 0.32366765, 0.32446848, 0.30376007, 0.28581081,\n",
       "       0.28886845, 0.26721057, 0.26718589, 0.26009005, 0.25344698,\n",
       "       0.24112086, 0.2303804 , 0.21765417, 0.21539284, 0.20356558,\n",
       "       0.19774422, 0.18795723, 0.18949684, 0.17348034, 0.17459681,\n",
       "       0.16007984, 0.15936337, 0.14163858, 0.13742944, 0.12938094,\n",
       "       0.1356371 , 0.12204451, 0.12165855, 0.12268949, 0.10921286,\n",
       "       0.09853581, 0.08721784, 0.08888889, 0.08409659, 0.08205499,\n",
       "       0.07753449, 0.07026695, 0.06294145, 0.06876457, 0.057861  ,\n",
       "       0.05549664, 0.04655359, 0.0406101 , 0.03748998, 0.03861706,\n",
       "       0.03909552, 0.03452244, 0.03094732, 0.03052472, 0.02591793,\n",
       "       0.02146794, 0.02207076, 0.02054013, 0.02068966, 0.01665825,\n",
       "       0.01612903, 0.01070155])"
      ]
     },
     "execution_count": 235,
     "metadata": {},
     "output_type": "execute_result"
    }
   ],
   "source": [
    "res_norm_2000[:len(res_2000)-1]/res_2000[:len(res_2000)-1]"
   ]
  },
  {
   "cell_type": "code",
   "execution_count": 70,
   "id": "ecfadc28",
   "metadata": {},
   "outputs": [
    {
     "data": {
      "text/plain": [
       "10000"
      ]
     },
     "execution_count": 70,
     "metadata": {},
     "output_type": "execute_result"
    }
   ],
   "source": [
    "len(data_unif_angular)"
   ]
  },
  {
   "cell_type": "code",
   "execution_count": 134,
   "id": "813335f5",
   "metadata": {},
   "outputs": [
    {
     "data": {
      "text/plain": [
       "79.0"
      ]
     },
     "execution_count": 134,
     "metadata": {},
     "output_type": "execute_result"
    }
   ],
   "source": [
    "len(res_20)/2"
   ]
  },
  {
   "cell_type": "code",
   "execution_count": 142,
   "id": "5c6c77c2",
   "metadata": {},
   "outputs": [
    {
     "data": {
      "text/plain": [
       "array([2.01300589, 2.02200887, 2.01195025, 1.99596521, 1.96676552,\n",
       "       1.92065928, 1.87583056, 1.82011082, 1.76175389, 1.70317008,\n",
       "       1.64243856, 1.58092739, 1.5199798 , 1.45560769, 1.39225957,\n",
       "       1.3270618 , 1.2649578 , 1.20152386, 1.14273114, 1.0829679 ,\n",
       "       1.02993544, 0.97516264, 0.92457201, 0.87304422, 0.8236242 ,\n",
       "       0.77480226, 0.7289214 , 0.68797747, 0.64676628, 0.60981873,\n",
       "       0.5739893 , 0.54145057, 0.51082074, 0.48590821, 0.45951796,\n",
       "       0.4344631 , 0.40752948, 0.38334817, 0.35844457, 0.3375457 ,\n",
       "       0.31423395, 0.29310619, 0.27244176, 0.25262108, 0.2333015 ,\n",
       "       0.21626825, 0.19864829, 0.18360323, 0.16764833, 0.15217336,\n",
       "       0.13718739, 0.12372073, 0.11131599, 0.10083169, 0.09028343,\n",
       "       0.08171666, 0.07343588, 0.06528218, 0.05820796, 0.05131272,\n",
       "       0.04441789, 0.03891243, 0.03305431, 0.02884791, 0.02520118,\n",
       "       0.02060198, 0.01825422, 0.01490823, 0.01189741, 0.00886237,\n",
       "       0.00726305, 0.00581745, 0.00581395])"
      ]
     },
     "execution_count": 142,
     "metadata": {},
     "output_type": "execute_result"
    }
   ],
   "source": [
    " res_norm_20[6:79]/res_20[6:79]"
   ]
  },
  {
   "cell_type": "code",
   "execution_count": null,
   "id": "5f0cc525",
   "metadata": {},
   "outputs": [],
   "source": [
    "# save the data : "
   ]
  },
  {
   "cell_type": "code",
   "execution_count": null,
   "id": "d60894cf",
   "metadata": {},
   "outputs": [],
   "source": [
    "res_norm # data norm 10 000"
   ]
  },
  {
   "cell_type": "code",
   "execution_count": 240,
   "id": "f57225d9",
   "metadata": {},
   "outputs": [
    {
     "data": {
      "text/plain": [
       "157"
      ]
     },
     "execution_count": 240,
     "metadata": {},
     "output_type": "execute_result"
    }
   ],
   "source": [
    "abs_corr_2 = np.linspace(0,np.pi,math.floor(len(res_norm_2000)-1))\n",
    "len(abs_corr_2)"
   ]
  },
  {
   "cell_type": "code",
   "execution_count": null,
   "id": "c2c05ace",
   "metadata": {},
   "outputs": [],
   "source": []
  },
  {
   "cell_type": "code",
   "execution_count": 241,
   "id": "90557e04",
   "metadata": {},
   "outputs": [
    {
     "data": {
      "image/png": "[encoded data removed]",
      "text/plain": [
       "<Figure size 432x288 with 1 Axes>"
      ]
     },
     "metadata": {
      "needs_background": "light"
     },
     "output_type": "display_data"
    }
   ],
   "source": [
    "plt.loglog(abs_corr_2, res_norm_2000[:len(res_2000)-1]/res_2000[:len(res_2000)-1], '.', label = 'normal sample')\n",
    "plt.xlabel('angle')\n",
    "plt.ylabel('angular correlation')\n",
    "plt.legend()\n",
    "plt.show()"
   ]
  },
  {
   "cell_type": "code",
   "execution_count": 96,
   "id": "cad1dc51",
   "metadata": {},
   "outputs": [
    {
     "ename": "NameError",
     "evalue": "name 'p' is not defined",
     "output_type": "error",
     "traceback": [
      "\u001b[0;31m---------------------------------------------------------------------------\u001b[0m",
      "\u001b[0;31mNameError\u001b[0m                                 Traceback (most recent call last)",
      "\u001b[0;32m<ipython-input-96-f76fa6214edf>\u001b[0m in \u001b[0;36m<module>\u001b[0;34m\u001b[0m\n\u001b[0;32m----> 1\u001b[0;31m \u001b[0mplt\u001b[0m\u001b[0;34m.\u001b[0m\u001b[0mplot\u001b[0m\u001b[0;34m(\u001b[0m\u001b[0mabs_corr\u001b[0m\u001b[0;34m,\u001b[0m \u001b[0;34m(\u001b[0m\u001b[0mres\u001b[0m\u001b[0;34m/\u001b[0m\u001b[0mp\u001b[0m\u001b[0;34m)\u001b[0m\u001b[0;34m[\u001b[0m\u001b[0;34m:\u001b[0m\u001b[0;36m130\u001b[0m\u001b[0;34m]\u001b[0m\u001b[0;34m,\u001b[0m \u001b[0;34m'.'\u001b[0m\u001b[0;34m,\u001b[0m \u001b[0mlabel\u001b[0m \u001b[0;34m=\u001b[0m \u001b[0;34m'normal sample'\u001b[0m\u001b[0;34m)\u001b[0m\u001b[0;34m\u001b[0m\u001b[0;34m\u001b[0m\u001b[0m\n\u001b[0m\u001b[1;32m      2\u001b[0m \u001b[0mplt\u001b[0m\u001b[0;34m.\u001b[0m\u001b[0mxlabel\u001b[0m\u001b[0;34m(\u001b[0m\u001b[0;34m'radius'\u001b[0m\u001b[0;34m)\u001b[0m\u001b[0;34m\u001b[0m\u001b[0;34m\u001b[0m\u001b[0m\n\u001b[1;32m      3\u001b[0m \u001b[0mplt\u001b[0m\u001b[0;34m.\u001b[0m\u001b[0mylabel\u001b[0m\u001b[0;34m(\u001b[0m\u001b[0;34m'angular correlation'\u001b[0m\u001b[0;34m)\u001b[0m\u001b[0;34m\u001b[0m\u001b[0;34m\u001b[0m\u001b[0m\n\u001b[1;32m      4\u001b[0m \u001b[0mplt\u001b[0m\u001b[0;34m.\u001b[0m\u001b[0mlegend\u001b[0m\u001b[0;34m(\u001b[0m\u001b[0;34m)\u001b[0m\u001b[0;34m\u001b[0m\u001b[0;34m\u001b[0m\u001b[0m\n\u001b[1;32m      5\u001b[0m \u001b[0mplt\u001b[0m\u001b[0;34m.\u001b[0m\u001b[0msavefig\u001b[0m\u001b[0;34m(\u001b[0m\u001b[0;34m'angular_corr_unif_10000'\u001b[0m\u001b[0;34m)\u001b[0m\u001b[0;34m\u001b[0m\u001b[0;34m\u001b[0m\u001b[0m\n",
      "\u001b[0;31mNameError\u001b[0m: name 'p' is not defined"
     ]
    }
   ],
   "source": [
    "plt.plot(abs_corr, (res/p)[:130], '.', label = 'normal sample')\n",
    "plt.xlabel('radius')\n",
    "plt.ylabel('angular correlation')\n",
    "plt.legend()\n",
    "plt.savefig('angular_corr_unif_10000')"
   ]
  },
  {
   "cell_type": "code",
   "execution_count": 38,
   "id": "f82e8470",
   "metadata": {},
   "outputs": [],
   "source": [
    "p = (np.arange(math.floor((np.pi*r)/(2*0.01))+1)+1)*0.01*2*np.pi\n",
    "res_unif = np.divide(res,p)"
   ]
  },
  {
   "cell_type": "code",
   "execution_count": 93,
   "id": "5a8c2c3d",
   "metadata": {},
   "outputs": [
    {
     "data": {
      "image/png": "[encoded data removed]",
      "text/plain": [
       "<Figure size 432x288 with 1 Axes>"
      ]
     },
     "metadata": {
      "needs_background": "light"
     },
     "output_type": "display_data"
    }
   ],
   "source": [
    "plt.loglog(abs_corr, res_unif, '.', label = 'uniform sample')\n",
    "plt.xlabel(\"radius\")\n",
    "plt.ylabel('angular correlation')\n",
    "plt.legend()\n",
    "plt.savefig(\"angular_corr_log_scale_unif_10000\")"
   ]
  },
  {
   "cell_type": "code",
   "execution_count": 144,
   "id": "4f68e63f",
   "metadata": {},
   "outputs": [],
   "source": [
    "data_unif_30000 = np.random.uniform(0,1,(30000,3))"
   ]
  },
  {
   "cell_type": "code",
   "execution_count": 145,
   "id": "071865af",
   "metadata": {},
   "outputs": [],
   "source": [
    "data_unif_angular_30000 = data_to_angular(data_unif_30000)"
   ]
  },
  {
   "cell_type": "code",
   "execution_count": 146,
   "id": "a2b8d478",
   "metadata": {},
   "outputs": [
    {
     "ename": "KeyboardInterrupt",
     "evalue": "",
     "output_type": "error",
     "traceback": [
      "\u001b[0;31m---------------------------------------------------------------------------\u001b[0m",
      "\u001b[0;31mKeyboardInterrupt\u001b[0m                         Traceback (most recent call last)",
      "\u001b[0;32m<ipython-input-146-6b577770713a>\u001b[0m in \u001b[0;36m<module>\u001b[0;34m\u001b[0m\n\u001b[0;32m----> 1\u001b[0;31m \u001b[0mres_30000\u001b[0m \u001b[0;34m=\u001b[0m \u001b[0mangular_pair_correlation\u001b[0m\u001b[0;34m(\u001b[0m\u001b[0mdata_unif_angular_30000\u001b[0m\u001b[0;34m,\u001b[0m \u001b[0;36m0.5\u001b[0m\u001b[0;34m,\u001b[0m \u001b[0;36m0.01\u001b[0m\u001b[0;34m)\u001b[0m\u001b[0;34m\u001b[0m\u001b[0;34m\u001b[0m\u001b[0m\n\u001b[0m",
      "\u001b[0;32m<ipython-input-127-1033bd7bbe1b>\u001b[0m in \u001b[0;36mangular_pair_correlation\u001b[0;34m(data, r, d)\u001b[0m\n\u001b[1;32m      6\u001b[0m     \u001b[0;32mfor\u001b[0m \u001b[0mi\u001b[0m \u001b[0;32min\u001b[0m \u001b[0mrange\u001b[0m\u001b[0;34m(\u001b[0m\u001b[0mlen\u001b[0m\u001b[0;34m(\u001b[0m\u001b[0mdata\u001b[0m\u001b[0;34m)\u001b[0m\u001b[0;34m)\u001b[0m\u001b[0;34m:\u001b[0m\u001b[0;34m\u001b[0m\u001b[0;34m\u001b[0m\u001b[0m\n\u001b[1;32m      7\u001b[0m         \u001b[0;32mfor\u001b[0m \u001b[0mj\u001b[0m \u001b[0;32min\u001b[0m \u001b[0mrange\u001b[0m\u001b[0;34m(\u001b[0m\u001b[0mi\u001b[0m\u001b[0;34m+\u001b[0m\u001b[0;36m1\u001b[0m\u001b[0;34m,\u001b[0m \u001b[0mlen\u001b[0m\u001b[0;34m(\u001b[0m\u001b[0mdata\u001b[0m\u001b[0;34m)\u001b[0m\u001b[0;34m)\u001b[0m\u001b[0;34m:\u001b[0m\u001b[0;34m\u001b[0m\u001b[0;34m\u001b[0m\u001b[0m\n\u001b[0;32m----> 8\u001b[0;31m             \u001b[0ml\u001b[0m \u001b[0;34m=\u001b[0m \u001b[0marc_length\u001b[0m\u001b[0;34m(\u001b[0m\u001b[0mdata\u001b[0m\u001b[0;34m[\u001b[0m\u001b[0mi\u001b[0m\u001b[0;34m]\u001b[0m\u001b[0;34m,\u001b[0m\u001b[0mdata\u001b[0m\u001b[0;34m[\u001b[0m\u001b[0mj\u001b[0m\u001b[0;34m]\u001b[0m\u001b[0;34m,\u001b[0m \u001b[0mr\u001b[0m\u001b[0;34m)\u001b[0m\u001b[0;34m\u001b[0m\u001b[0;34m\u001b[0m\u001b[0m\n\u001b[0m\u001b[1;32m      9\u001b[0m             \u001b[0mbins\u001b[0m\u001b[0;34m[\u001b[0m\u001b[0mmath\u001b[0m\u001b[0;34m.\u001b[0m\u001b[0mfloor\u001b[0m\u001b[0;34m(\u001b[0m\u001b[0ml\u001b[0m\u001b[0;34m/\u001b[0m\u001b[0md\u001b[0m\u001b[0;34m)\u001b[0m\u001b[0;34m]\u001b[0m \u001b[0;34m+=\u001b[0m \u001b[0;36m1\u001b[0m\u001b[0;34m\u001b[0m\u001b[0;34m\u001b[0m\u001b[0m\n\u001b[1;32m     10\u001b[0m     \u001b[0;31m#we need to normalize  divide each bins by the perimeter of the circle of radius r\u001b[0m\u001b[0;34m\u001b[0m\u001b[0;34m\u001b[0m\u001b[0;34m\u001b[0m\u001b[0m\n",
      "\u001b[0;32m<ipython-input-126-2d1963b3a959>\u001b[0m in \u001b[0;36marc_length\u001b[0;34m(point_1, point_2, radius)\u001b[0m\n\u001b[1;32m      1\u001b[0m \u001b[0mr\u001b[0m \u001b[0;34m=\u001b[0m \u001b[0;36m0.5\u001b[0m\u001b[0;34m\u001b[0m\u001b[0;34m\u001b[0m\u001b[0m\n\u001b[1;32m      2\u001b[0m \u001b[0;32mdef\u001b[0m \u001b[0marc_length\u001b[0m\u001b[0;34m(\u001b[0m\u001b[0mpoint_1\u001b[0m\u001b[0;34m,\u001b[0m \u001b[0mpoint_2\u001b[0m\u001b[0;34m,\u001b[0m \u001b[0mradius\u001b[0m\u001b[0;34m)\u001b[0m\u001b[0;34m:\u001b[0m\u001b[0;34m\u001b[0m\u001b[0;34m\u001b[0m\u001b[0m\n\u001b[0;32m----> 3\u001b[0;31m     \u001b[0mdelta_sig\u001b[0m \u001b[0;34m=\u001b[0m \u001b[0mnp\u001b[0m\u001b[0;34m.\u001b[0m\u001b[0marccos\u001b[0m\u001b[0;34m(\u001b[0m\u001b[0mnp\u001b[0m\u001b[0;34m.\u001b[0m\u001b[0msin\u001b[0m\u001b[0;34m(\u001b[0m\u001b[0mpoint_1\u001b[0m\u001b[0;34m[\u001b[0m\u001b[0;36m1\u001b[0m\u001b[0;34m]\u001b[0m\u001b[0;34m)\u001b[0m\u001b[0;34m*\u001b[0m\u001b[0mnp\u001b[0m\u001b[0;34m.\u001b[0m\u001b[0msin\u001b[0m\u001b[0;34m(\u001b[0m\u001b[0mpoint_2\u001b[0m\u001b[0;34m[\u001b[0m\u001b[0;36m1\u001b[0m\u001b[0;34m]\u001b[0m\u001b[0;34m)\u001b[0m\u001b[0;34m+\u001b[0m\u001b[0mnp\u001b[0m\u001b[0;34m.\u001b[0m\u001b[0mcos\u001b[0m\u001b[0;34m(\u001b[0m\u001b[0mpoint_1\u001b[0m\u001b[0;34m[\u001b[0m\u001b[0;36m1\u001b[0m\u001b[0;34m]\u001b[0m\u001b[0;34m)\u001b[0m\u001b[0;34m*\u001b[0m\u001b[0mnp\u001b[0m\u001b[0;34m.\u001b[0m\u001b[0mcos\u001b[0m\u001b[0;34m(\u001b[0m\u001b[0mpoint_2\u001b[0m\u001b[0;34m[\u001b[0m\u001b[0;36m1\u001b[0m\u001b[0;34m]\u001b[0m\u001b[0;34m)\u001b[0m\u001b[0;34m*\u001b[0m\u001b[0mnp\u001b[0m\u001b[0;34m.\u001b[0m\u001b[0mcos\u001b[0m\u001b[0;34m(\u001b[0m\u001b[0mabs\u001b[0m\u001b[0;34m(\u001b[0m\u001b[0mpoint_1\u001b[0m\u001b[0;34m[\u001b[0m\u001b[0;36m2\u001b[0m\u001b[0;34m]\u001b[0m\u001b[0;34m-\u001b[0m\u001b[0mpoint_2\u001b[0m\u001b[0;34m[\u001b[0m\u001b[0;36m2\u001b[0m\u001b[0;34m]\u001b[0m\u001b[0;34m)\u001b[0m\u001b[0;34m)\u001b[0m\u001b[0;34m)\u001b[0m\u001b[0;34m\u001b[0m\u001b[0;34m\u001b[0m\u001b[0m\n\u001b[0m\u001b[1;32m      4\u001b[0m     \u001b[0;32mreturn\u001b[0m\u001b[0;34m(\u001b[0m\u001b[0mdelta_sig\u001b[0m\u001b[0;34m*\u001b[0m\u001b[0mradius\u001b[0m\u001b[0;34m)\u001b[0m\u001b[0;34m\u001b[0m\u001b[0;34m\u001b[0m\u001b[0m\n",
      "\u001b[0;31mKeyboardInterrupt\u001b[0m: "
     ]
    }
   ],
   "source": [
    "res_30000 = angular_pair_correlation(data_unif_angular_30000, 0.5, 0.01)"
   ]
  },
  {
   "cell_type": "code",
   "execution_count": null,
   "id": "ab8cb5a9",
   "metadata": {},
   "outputs": [],
   "source": [
    "n = 30000\n",
    "lower, upper = 0, 1\n",
    "mu, sigma = 0.5, 0.2\n",
    "\n",
    "x_norm = stats.truncnorm.rvs((lower-mu)/sigma,(upper-mu)/sigma,loc=mu,scale=sigma,size=n)\n",
    "y_norm = stats.truncnorm.rvs((lower-mu)/sigma,(upper-mu)/sigma,loc=mu,scale=sigma,size=n)\n",
    "z_norm = stats.truncnorm.rvs((lower-mu)/sigma,(upper-mu)/sigma,loc=mu,scale=sigma,size=n)\n",
    "\n",
    "data_norm = np.stack((x_norm, y_norm, z_norm), axis=-1)"
   ]
  },
  {
   "cell_type": "code",
   "execution_count": 121,
   "id": "aa4c7982",
   "metadata": {},
   "outputs": [],
   "source": [
    "data_norm_angular = data_to_angular(data_norm)"
   ]
  },
  {
   "cell_type": "code",
   "execution_count": 178,
   "id": "5bf1f094",
   "metadata": {},
   "outputs": [],
   "source": [
    "res_30000_norm = angular_pair_correlation(data_norm_angular, 0.5, 0.01)"
   ]
  },
  {
   "cell_type": "code",
   "execution_count": null,
   "id": "0b8b7f45",
   "metadata": {},
   "outputs": [],
   "source": [
    "p = (np.arange(math.floor((np.pi*r)/(2*0.01))+1)+1)*0.01*2*np.pi\n",
    "unif_30000 = np.divide(res_30000,p)"
   ]
  },
  {
   "cell_type": "code",
   "execution_count": 111,
   "id": "86eac0d5",
   "metadata": {},
   "outputs": [
    {
     "data": {
      "image/png": "[encoded data removed]",
      "text/plain": [
       "<Figure size 432x288 with 1 Axes>"
      ]
     },
     "metadata": {
      "needs_background": "light"
     },
     "output_type": "display_data"
    }
   ],
   "source": [
    "plt.loglog(abs_corr, unif_30000, '.', label = 'uniform sample')\n",
    "plt.xlabel(\"radius\")\n",
    "plt.ylabel('angular correlation')\n",
    "plt.legend()\n",
    "plt.savefig(\"angular_corr_log_scale_unif_30000\")"
   ]
  },
  {
   "cell_type": "code",
   "execution_count": 179,
   "id": "ab9f6d65",
   "metadata": {},
   "outputs": [
    {
     "ename": "NameError",
     "evalue": "name 'res_30000' is not defined",
     "output_type": "error",
     "traceback": [
      "\u001b[0;31m---------------------------------------------------------------------------\u001b[0m",
      "\u001b[0;31mNameError\u001b[0m                                 Traceback (most recent call last)",
      "\u001b[0;32m<ipython-input-179-42960892ab46>\u001b[0m in \u001b[0;36m<module>\u001b[0;34m\u001b[0m\n\u001b[0;32m----> 1\u001b[0;31m \u001b[0mnorm_30000\u001b[0m \u001b[0;34m=\u001b[0m \u001b[0;34m(\u001b[0m\u001b[0mres_30000_norm\u001b[0m\u001b[0;34m/\u001b[0m\u001b[0mres_30000\u001b[0m\u001b[0;34m)\u001b[0m \u001b[0;34m-\u001b[0m \u001b[0;36m1\u001b[0m\u001b[0;34m\u001b[0m\u001b[0;34m\u001b[0m\u001b[0m\n\u001b[0m",
      "\u001b[0;31mNameError\u001b[0m: name 'res_30000' is not defined"
     ]
    }
   ],
   "source": [
    "norm_30000 = (res_30000_norm/res_30000) - 1"
   ]
  },
  {
   "cell_type": "code",
   "execution_count": 148,
   "id": "ae605c86",
   "metadata": {},
   "outputs": [
    {
     "ename": "NameError",
     "evalue": "name 'norm_10000' is not defined",
     "output_type": "error",
     "traceback": [
      "\u001b[0;31m---------------------------------------------------------------------------\u001b[0m",
      "\u001b[0;31mNameError\u001b[0m                                 Traceback (most recent call last)",
      "\u001b[0;32m<ipython-input-148-e0529844a692>\u001b[0m in \u001b[0;36m<module>\u001b[0;34m\u001b[0m\n\u001b[0;32m----> 1\u001b[0;31m \u001b[0mplt\u001b[0m\u001b[0;34m.\u001b[0m\u001b[0mloglog\u001b[0m\u001b[0;34m(\u001b[0m\u001b[0mabs_corr\u001b[0m\u001b[0;34m,\u001b[0m \u001b[0mnorm_10000\u001b[0m\u001b[0;34m,\u001b[0m \u001b[0;34m'.'\u001b[0m\u001b[0;34m,\u001b[0m \u001b[0mlabel\u001b[0m \u001b[0;34m=\u001b[0m \u001b[0;34m'normal sample'\u001b[0m\u001b[0;34m)\u001b[0m\u001b[0;34m\u001b[0m\u001b[0;34m\u001b[0m\u001b[0m\n\u001b[0m\u001b[1;32m      2\u001b[0m \u001b[0mplt\u001b[0m\u001b[0;34m.\u001b[0m\u001b[0mxlabel\u001b[0m\u001b[0;34m(\u001b[0m\u001b[0;34m\"radius\"\u001b[0m\u001b[0;34m)\u001b[0m\u001b[0;34m\u001b[0m\u001b[0;34m\u001b[0m\u001b[0m\n\u001b[1;32m      3\u001b[0m \u001b[0mplt\u001b[0m\u001b[0;34m.\u001b[0m\u001b[0mylabel\u001b[0m\u001b[0;34m(\u001b[0m\u001b[0;34m'angular correlation'\u001b[0m\u001b[0;34m)\u001b[0m\u001b[0;34m\u001b[0m\u001b[0;34m\u001b[0m\u001b[0m\n\u001b[1;32m      4\u001b[0m \u001b[0mplt\u001b[0m\u001b[0;34m.\u001b[0m\u001b[0mlegend\u001b[0m\u001b[0;34m(\u001b[0m\u001b[0;34m)\u001b[0m\u001b[0;34m\u001b[0m\u001b[0;34m\u001b[0m\u001b[0m\n\u001b[1;32m      5\u001b[0m \u001b[0mplt\u001b[0m\u001b[0;34m.\u001b[0m\u001b[0msavefig\u001b[0m\u001b[0;34m(\u001b[0m\u001b[0;34m\"angular_corr_log_scale_norm_30000\"\u001b[0m\u001b[0;34m)\u001b[0m\u001b[0;34m\u001b[0m\u001b[0;34m\u001b[0m\u001b[0m\n",
      "\u001b[0;31mNameError\u001b[0m: name 'norm_10000' is not defined"
     ]
    }
   ],
   "source": [
    "plt.loglog(abs_corr, norm_10000, '.', label = 'normal sample')\n",
    "plt.xlabel(\"radius\")\n",
    "plt.ylabel('angular correlation')\n",
    "plt.legend()\n",
    "plt.savefig(\"angular_corr_log_scale_norm_30000\")"
   ]
  },
  {
   "cell_type": "code",
   "execution_count": null,
   "id": "b3271b53",
   "metadata": {},
   "outputs": [],
   "source": []
  }
 ],
 "metadata": {
  "kernelspec": {
   "display_name": "Python 3",
   "language": "python",
   "name": "python3"
  },
  "language_info": {
   "codemirror_mode": {
    "name": "ipython",
    "version": 3
   },
   "file_extension": ".py",
   "mimetype": "text/x-python",
   "name": "python",
   "nbconvert_exporter": "python",
   "pygments_lexer": "ipython3",
   "version": "3.9.5"
  }
 },
 "nbformat": 4,
 "nbformat_minor": 5
}
